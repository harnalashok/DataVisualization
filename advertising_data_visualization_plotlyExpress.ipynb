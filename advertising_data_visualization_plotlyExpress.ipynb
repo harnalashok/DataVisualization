{
 "cells": [
  {
   "cell_type": "code",
   "execution_count": null,
   "metadata": {},
   "outputs": [],
   "source": [
    "# Last amended: 10th May, 2020\n",
    "# objectives:\n",
    "#           i)  Learning to draw various types of graphs\n",
    "#          ii)  Conditional plots using catplot\n",
    "#         iii)  Relationship plots using relplot\n",
    "#          ii)  Learning to use plotly express\n",
    "# Good references:\n",
    "#            API: https://plot.ly/python-api-reference/plotly.express.html\n",
    "#                  https://plotly.com/python-api-reference/plotly.express.html\n",
    "#        Gallery: https://nbviewer.jupyter.org/github/plotly/plotly_express/blob/gh-pages/gallery.ipynb\n",
    "#    Walkthrough: https://plot.ly/python/plotly-express/#plotly-express"
   ]
  },
  {
   "cell_type": "code",
   "execution_count": null,
   "metadata": {},
   "outputs": [],
   "source": [
    "# 1.0 To which python, your jupyter notebook pointing to?\n",
    "#     If not to correct python, then install: conda install nb_install\n",
    "#     This gives you option to select correct kernel (under Kernel-->Change Kernel)\n",
    "import sys\n",
    "sys.executable"
   ]
  },
  {
   "cell_type": "code",
   "execution_count": null,
   "metadata": {},
   "outputs": [],
   "source": [
    "# 1.1 Call libraries\n",
    "%reset -f\n",
    "# 1.2 For data manipulations\n",
    "import numpy as np\n",
    "import pandas as pd\n",
    "# 1.3 For plotting\n",
    "import matplotlib.pyplot as plt\n",
    "import matplotlib\n",
    "# Install as: conda install -c plotly plotly \n",
    "import plotly.express as px\n",
    "# 1.4 For data processing\n",
    "from sklearn.preprocessing import StandardScaler\n",
    "# 1.5 OS related\n",
    "import os\n"
   ]
  },
  {
   "cell_type": "code",
   "execution_count": null,
   "metadata": {},
   "outputs": [],
   "source": [
    "# 1.6 Display output not only of last command but all commands in a cell\n",
    "from IPython.core.interactiveshell import InteractiveShell\n",
    "InteractiveShell.ast_node_interactivity = \"all\""
   ]
  },
  {
   "cell_type": "code",
   "execution_count": null,
   "metadata": {},
   "outputs": [],
   "source": [
    "# 1.7 Set pandas options to display results\n",
    "pd.options.display.max_rows = 1000\n",
    "pd.options.display.max_columns = 1000"
   ]
  },
  {
   "cell_type": "code",
   "execution_count": null,
   "metadata": {},
   "outputs": [],
   "source": [
    "# 2.0 Go to folder containing data file\n",
    "os.chdir(\"D:\\\\data\\\\OneDrive\\\\Documents\\\\advertising\")\n",
    "#os.chdir(\"/home/ashok/datasets/advertising\")\n",
    "os.listdir()            # List all files in the folder\n",
    "\n",
    "# 2.1 Read file and while reading file,\n",
    "#      convert 'Timestamp' to datetime time\n",
    "ad = pd.read_csv(\"advertising.zip\",\n",
    "                  parse_dates = ['Timestamp']    # especial for date parsing\n",
    "                  )\n",
    "ad.head()"
   ]
  },
  {
   "cell_type": "code",
   "execution_count": null,
   "metadata": {},
   "outputs": [],
   "source": [
    "# 2.2 Check data types of attributes\n",
    "ad.dtypes\n",
    "\n",
    "# 2.3 Some more dataset related information\n",
    "ad.info()               # Also informs how much memory dataset takes\n",
    "                        #   and status of nulls\n",
    "\n",
    "ad.memory_usage()\n",
    "\n",
    "# 2.4.1\n",
    "ad.shape                # (1000, 10)\n",
    "ad.columns.values\n",
    "len(ad.columns)         # 10 attributes\n",
    "\n",
    "# 2.5 Categorical data value counts\n",
    "#     Or number of levels per category\n",
    "len(ad.City.unique())                   # 969 cities out of 1000\n",
    "ad.City.value_counts()\n",
    "\n",
    "# 2.6 How many conutries\n",
    "len(ad.Country.unique())                # 237 countries\n",
    "ad.Country.value_counts()               # Mostly 2 per country\n",
    "\n",
    "# 2.7 Distribution of gender\n",
    "ad.Male.value_counts()                  # 519:481\n",
    "\n",
    "# 2.8 Distribution of clicks\n",
    "ad['Clicked on Ad'].value_counts()      # 1 and 0 in the ratio of 500:500\n",
    "                                        # This is highly optimistic. Genrally clicks may be 1%\n"
   ]
  },
  {
   "cell_type": "code",
   "execution_count": null,
   "metadata": {},
   "outputs": [],
   "source": [
    "#############################\n",
    "# 3.0 Create features\n",
    "#############################\n",
    "# 3.1 Descretise continuos columns\n",
    "#     These are equal width bins as against\n",
    "#     equal data-points bins (quantile) or kmeans clusters\n",
    "#     Alternatively use KBinsDiscretizer of sklearn\n",
    "ad[\"age_cat\"] = pd.cut(\n",
    "                       ad['Age'],\n",
    "                       bins = 3,\n",
    "                       labels= [\"y\", \"m\", \"s\"]\n",
    "                      )\n",
    "\n",
    "ad[\"area_income_cat\"] = pd.cut(\n",
    "                               ad['Area Income'],\n",
    "                               bins = 3,\n",
    "                               labels= [\"l\", \"m\", \"h\"]\n",
    "                               )\n"
   ]
  },
  {
   "cell_type": "code",
   "execution_count": null,
   "metadata": {},
   "outputs": [],
   "source": [
    "# 3.2 Create a new column as per length of each ad-line\n",
    "ad['AdTopicLineLength'] = ad['Ad Topic Line'].apply(lambda x : len(x))\n",
    "\n",
    "# 3.3 Create a new column as per number of words in each ad-line\n",
    "# Try \"good boy\".split(\" \")  and len(\"good boy.split(\" \"))\n",
    "\"good boy\".split(\" \")             # ['good', 'boy']\n",
    "len(\"good boy\".split(\" \"))        # 2\n",
    "\n",
    "\n",
    "# 3.3.1 Note the use of apply(). This apply() works on complete Series\n",
    "#       to transform it rather than to summarise it as in groupby.\n",
    "ad['AdTopicNoOfWords'] = ad['Ad Topic Line'].apply(lambda x : len(x.split(\" \")))   # Note the use of apply()\n",
    "                                                                                   # This apply works on complete Series\n",
    "\n"
   ]
  },
  {
   "cell_type": "code",
   "execution_count": null,
   "metadata": {},
   "outputs": [],
   "source": [
    "# 3.4 A column that has counts of City and\n",
    "#       another column with counts of Country column\n",
    "#       Note the use of transform method here\n",
    "grouped = ad.groupby(['City'])\n",
    "ad['City_count'] = grouped['City'].transform('count')   # count is a groupby method\n",
    "\n",
    "# 3.4.1 Same way for country\n",
    "grouped = ad.groupby(['Country'])\n",
    "ad['Country_count'] = grouped['Country'].transform('count')   # count is a groupby method\n",
    "\n",
    "\n",
    "# 3.5 Extract date components using Series.dt accessor\n",
    "#     https://pandas.pydata.org/pandas-docs/stable/reference/series.html#api-series-dt\n",
    "#     https://pandas.pydata.org/pandas-docs/stable/reference/series.html#datetime-properties\n",
    "\n",
    "# 3.6 What is the type of 'dt'\n",
    "type(ad['Timestamp'].dt)    # Accessor like get()\n",
    "                            # pandas.core.indexes.accessors.DatetimeProperties\n",
    "\n",
    "# 3.7 Extract hour, weekday and month\n",
    "ad['hourOfDay']    = ad['Timestamp'].dt.hour\n",
    "ad['weekday'] = ad['Timestamp'].dt.weekday\n",
    "ad['quarter'] = ad['Timestamp'].dt.month      # First we get month. Then we map month to quarter\n",
    "                                              #   See below\n",
    "\n",
    "# 3.8 Cut hour to morning, evening, night etc\n",
    "#     For example 0 to 6am is earlymorning\n",
    "l = [\"earlymorning\", \"morning\", \"afternoon\", \"evening\", \"night\",\"latenight\"]\n",
    "ad[\"hour\"] = pd.cut(ad['hourOfDay'], bins = [-1,6,12,17,20,22,24], labels = l)\n",
    "\n",
    "\n",
    "# 4.0 Similarly for weekdays\n",
    "#     Map weekday numbers to weekday names\n",
    "#     We use Series.map() method\n",
    "ad['weekday'] = ad['weekday'].map({\n",
    "                                    0 : 'Monday',\n",
    "                                    1 : 'Tuesday',\n",
    "                                    2: 'Wednesday',\n",
    "                                    3: 'Thursday',\n",
    "                                    4: 'Friday',\n",
    "                                    5: 'Saturday',\n",
    "                                    6: 'Sunday'\n",
    "                                    }\n",
    "                                )\n",
    "\n",
    "ad['weekday'].head()\n"
   ]
  },
  {
   "cell_type": "code",
   "execution_count": null,
   "metadata": {},
   "outputs": [],
   "source": [
    "# 5.0 We use Series.map() method again but this time instead of supplying\n",
    "#      a dictionary to dictate transformation, we use a function for\n",
    "#        transformation\n",
    "def month(x):\n",
    "    if 0 < x < 3:\n",
    "        return \"Q1\"            # Quarter 1\n",
    "    if 3<= x < 6:\n",
    "        return \"Q2\"            # Quarter 2\n",
    "    if 6 <= x < 9:\n",
    "        return \"Q3\"            # Quarter 3\n",
    "    if 9 <= x < 12:\n",
    "        return \"Q4\"            # Quarter 4\n",
    "\n",
    "ad['quarter'] = ad['quarter'].map(lambda x : month(x))   # Which quarter clicked\n",
    "\n",
    "ad['quarter'].head()\n",
    "\n",
    "# 5.1 So finally what are col names?\n",
    "ad.columns.values\n",
    "ad.shape               # (1000, 19)  Earlier shape was (1000, 10)\n",
    "\n",
    "# 5.2 Let us rename some columns; remove spaces\n",
    "\n",
    "new_col_names  = {\n",
    "                 'Daily Time Spent on Site' :  'DailyTimeSpentonSite',\n",
    "                 'Area Income'              : 'AreaIncome',\n",
    "                 'Daily Internet Usage'     : 'DailyInternetUsage',\n",
    "                 'Clicked on Ad'            : 'Clicked_on_ad',\n",
    "                 'Male'                     : 'Gender'\n",
    "              }\n",
    "# 5.2.1\n",
    "ad.rename(\n",
    "         new_col_names,\n",
    "         inplace = True,\n",
    "         axis = 1             # Note the axis keyword. By default it is axis = 0\n",
    "         )\n",
    "\n",
    "ad.head()\n",
    "ad.columns.values\n"
   ]
  },
  {
   "cell_type": "code",
   "execution_count": null,
   "metadata": {},
   "outputs": [],
   "source": [
    "##################\n",
    "# 5 Plotting\n",
    "##################\n",
    "\n",
    "# Question 1: How is Age distributed?\n",
    "# Question 2: How is DailyTimeSpentonSite distributed\n",
    "# Question 3: How is AreaIncome distributed\n",
    "\n",
    "# 5.1 Distribution of each continuous value using px.histogram()\n",
    "\n",
    "# 5.1.1 Age is slight skewed to right. Naturally density of younger\n",
    "#       persons is high\n",
    "#       Ref: Examples: https://plotly.com/python/histograms/\n",
    "#            API:   https://plotly.github.io/plotly.py-docs/generated/plotly.express.histogram.html\n",
    "\n",
    "#fig = plt.figure()  # Not applicable for plotly express\n",
    "                     #  Does not use matplotlib as backend\n",
    "#plt.subplot(1,2,1)\n",
    "px.histogram(data_frame =ad, x ='Age')\n",
    "#plt.subplot(1,2,2)\n"
   ]
  },
  {
   "cell_type": "code",
   "execution_count": null,
   "metadata": {},
   "outputs": [],
   "source": [
    "# 5.1.1 Use a style-template\n",
    "px.histogram(data_frame =ad,\n",
    "                    x ='Age',\n",
    "                   nbins =20,\n",
    "                   template=\"plotly_dark\", # Available themes: [\"plotly\", \"plotly_white\", \"plotly_dark\",\n",
    "                                           #     \"ggplot2\", \"seaborn\", \"simple_white\", \"none\"]\n",
    "                                           # https://plotly.com/python/templates/\n",
    "                   #width = 10    # in inches in interval [10, inf]\n",
    "                   #height = 10    # in interval [10,inf]\n",
    "            )\n"
   ]
  },
  {
   "cell_type": "code",
   "execution_count": null,
   "metadata": {},
   "outputs": [],
   "source": [
    "# 5.1.2 Show boxplot in the margins\n",
    "px.histogram(data_frame =ad,\n",
    "             x = 'Age',\n",
    "             marginal = 'box'    # 'rug', 'box', 'violin', or 'histogram'\n",
    "             )"
   ]
  },
  {
   "cell_type": "code",
   "execution_count": null,
   "metadata": {},
   "outputs": [],
   "source": [
    "# 5.1.3 Ht of histogram depends upon another feature\n",
    "px.histogram(data_frame = ad,\n",
    "                     x  = \"Age\",\n",
    "                     y  = \"DailyInternetUsage\",  # Ht to be decided as per histfunc()\n",
    "                     histfunc = \"avg\"   # One of 'count', 'sum', 'avg', 'min', or 'max'\n",
    "             )"
   ]
  },
  {
   "cell_type": "code",
   "execution_count": null,
   "metadata": {},
   "outputs": [],
   "source": [
    "# 5.1.4 Conditional histogram--Conditioned upon target column\n",
    "px.histogram(data_frame =ad,\n",
    "                      x = 'Age',\n",
    "               marginal = 'violin',\n",
    "                  color = 'Clicked_on_ad',    # Conditional column. In seaborn it is hue\n",
    "                opacity = 0.2\n",
    "             )"
   ]
  },
  {
   "cell_type": "code",
   "execution_count": null,
   "metadata": {},
   "outputs": [],
   "source": [
    "#5.1.5 Conditional histogram--Conditioned upon target column\n",
    "#        and further subdivided by gender\n",
    "px.histogram(data_frame =ad,\n",
    "             x = 'Age',\n",
    "             color = 'Clicked_on_ad',\n",
    "             opacity = 0.2,            # In matplotlib it is alpha        \n",
    "             facet_row = 'Gender'      # In seaborn it is simply rows and cols\n",
    "             )"
   ]
  },
  {
   "cell_type": "code",
   "execution_count": null,
   "metadata": {},
   "outputs": [],
   "source": [
    "# 5.1.6 Conditional histogram--Conditioned upon target column\n",
    "#   and further subdivided by gender and also by Quarter\n",
    "px.histogram(data_frame =ad,\n",
    "             x = 'Age',\n",
    "             color = 'Clicked_on_ad',\n",
    "             opacity = 0.2,\n",
    "             facet_row = 'Gender',    \n",
    "             facet_col = 'quarter',\n",
    "             labels = {'Age' : \"age of persons\"} # Replace X-axis label\n",
    "             )"
   ]
  },
  {
   "cell_type": "code",
   "execution_count": null,
   "metadata": {},
   "outputs": [],
   "source": [
    "# 5.1.7 Conditional histogram--Conditioned upon target column\n",
    "#        and further subdivided by gender and also by Quarter\n",
    "#         Change number of bins\n",
    "px.histogram(data_frame =ad,\n",
    "             x = 'Age',\n",
    "             color = 'Clicked_on_ad',\n",
    "             opacity = 0.2,\n",
    "             facet_row = 'Gender',\n",
    "             facet_col = 'quarter',\n",
    "             labels = {'Age' : \"age of persons\"},\n",
    "             nbins = 20\n",
    "             )"
   ]
  },
  {
   "cell_type": "code",
   "execution_count": null,
   "metadata": {},
   "outputs": [],
   "source": [
    "# Question 4: Show joint distribution of DailyTimeSpentonSite and AreaIncome\n",
    "# Question 5: Show joint distribution of DailyInternetUsage and DailyTimeSpentonSite\n",
    "# Question 6: Show these plots as kernel density as also 'hex' as also\n",
    "#             draw regression line\n",
    "#\n",
    "# A jointplot = Scatterplot + Density plots\n"
   ]
  },
  {
   "cell_type": "code",
   "execution_count": null,
   "metadata": {},
   "outputs": [],
   "source": [
    "# 6.0 Innermost contour will show most counts\n",
    "#     Examples: https://plotly.com/python/2d-histogram-contour/\n",
    "#     API:      https://plotly.com/python-api-reference/generated/plotly.express.density_contour.html\n",
    "px.density_contour(\n",
    "                   data_frame =ad,\n",
    "                   x = 'DailyTimeSpentonSite',\n",
    "                   y = 'AreaIncome',\n",
    "                   )"
   ]
  },
  {
   "cell_type": "code",
   "execution_count": null,
   "metadata": {},
   "outputs": [],
   "source": [
    "# 6.1 Filling density contours\n",
    "#     Every plotting command returns a figure.\n",
    "#     It can be used subsequently to modify plot properties.\n",
    "#     This is unlike matplotlib where an axes is returned.\n",
    "\n",
    "fig = px.density_contour(\n",
    "                         data_frame =ad,\n",
    "                         x = 'DailyTimeSpentonSite',\n",
    "                         y = 'AreaIncome',\n",
    "                        )\n",
    "fig.update_traces(\n",
    "                  contours_coloring=\"fill\",\n",
    "                  contours_showlabels = True\n",
    "                 )\n",
    "#fig.show()     # At times needed. For matplotlib, corresponding command is plt.show()"
   ]
  },
  {
   "cell_type": "code",
   "execution_count": null,
   "metadata": {},
   "outputs": [],
   "source": [
    "# 6.2 Using an aggregation function, other than 'count'.\n",
    "#     Aggregation function other than 'count' can only be applied on z-axis\n",
    "#     Group by x and y, and show average(z).\n",
    "fig = px.density_contour(\n",
    "                         data_frame =ad,\n",
    "                         x = 'DailyTimeSpentonSite',\n",
    "                         y = 'AreaIncome',\n",
    "                         z = 'DailyInternetUsage',\n",
    "                         histfunc = 'avg'\n",
    "                        )\n",
    "fig.update_traces(\n",
    "                  contours_coloring=\"fill\",\n",
    "                  contours_showlabels = True\n",
    "                 )"
   ]
  },
  {
   "cell_type": "code",
   "execution_count": null,
   "metadata": {},
   "outputs": [],
   "source": [
    "# 6.3 Conditional contour plotting.\n",
    "#     Unfortunately plotly express cannot fill it\n",
    "px.density_contour(\n",
    "                   data_frame =ad,\n",
    "                   x = 'DailyTimeSpentonSite',\n",
    "                   y = 'AreaIncome',\n",
    "                   color = 'Gender'\n",
    "                   )"
   ]
  },
  {
   "cell_type": "code",
   "execution_count": null,
   "metadata": {},
   "outputs": [],
   "source": [
    "# 6.4 Conditional contour plotting as also marginal plots\n",
    "px.density_contour(\n",
    "                   data_frame =ad,\n",
    "                   x = 'DailyTimeSpentonSite',\n",
    "                   y = 'AreaIncome',\n",
    "                   color = 'Gender',\n",
    "                   marginal_x = 'box',\n",
    "                   marginal_y = 'rug'\n",
    "                   )"
   ]
  },
  {
   "cell_type": "code",
   "execution_count": null,
   "metadata": {},
   "outputs": [],
   "source": [
    "# 6.5 Changing width/height\n",
    "px.density_contour(\n",
    "                   data_frame =ad,\n",
    "                   x = 'DailyTimeSpentonSite',\n",
    "                   y = 'AreaIncome',\n",
    "                   color = 'Gender',\n",
    "                   marginal_x = 'box',\n",
    "                   marginal_y = 'rug',\n",
    "                   width = 600,        # Deault 600 pixels\n",
    "                   height = 600,\n",
    "                   title = \"Contour plots\"\n",
    "                   )"
   ]
  },
  {
   "cell_type": "code",
   "execution_count": null,
   "metadata": {},
   "outputs": [],
   "source": [
    "# 6.6 Facetting by category\n",
    "fig = px.density_contour(\n",
    "                   data_frame =ad,\n",
    "                   x = 'DailyTimeSpentonSite',\n",
    "                   y = 'AreaIncome',\n",
    "                   facet_col= 'Gender'\n",
    "                   )\n",
    "fig.update_traces(\n",
    "                  contours_coloring=\"fill\",\n",
    "                  contours_showlabels = True\n",
    "                 )\n"
   ]
  },
  {
   "cell_type": "code",
   "execution_count": null,
   "metadata": {},
   "outputs": [],
   "source": [
    "# 6.7 Facetting by category, column wise as also row-wise\n",
    "fig = px.density_contour(\n",
    "                   data_frame =ad,\n",
    "                   x = 'DailyTimeSpentonSite',\n",
    "                   y = 'AreaIncome',\n",
    "                   facet_col= 'Gender',\n",
    "                   facet_row = 'Clicked_on_ad'\n",
    "                   )\n",
    "\n",
    "fig.update_traces(\n",
    "                  contours_coloring=\"fill\",\n",
    "                  contours_showlabels = True\n",
    "                 )\n"
   ]
  },
  {
   "cell_type": "code",
   "execution_count": null,
   "metadata": {},
   "outputs": [],
   "source": [
    "# 7.0 Conditional Violin plots\n",
    "#     Ref:   https://plotly.com/python/violin/\n",
    "#        A violin plot is a method of plotting numeric data. \n",
    "#        It is similar to a box plot, with the addition of a\n",
    "#        rotated kernel density plot on each side. It is particularly\n",
    "#        useful when the data distribution is multimodal (more than \n",
    "#        one peak). In this case a violin plot shows the presence of\n",
    "#        different peaks, their position and relative amplitude. \n",
    "\n",
    "fig = px.violin(ad,\n",
    "                y=\"DailyInternetUsage\",\n",
    "                x=\"Clicked_on_ad\",\n",
    "                color=\"Gender\",      \n",
    "                box=True,\n",
    "                points=\"all\",\n",
    "                hover_data=ad.columns\n",
    "               )\n",
    "fig.show()"
   ]
  },
  {
   "cell_type": "code",
   "execution_count": null,
   "metadata": {},
   "outputs": [],
   "source": [
    "# 7.0  Heatmap. Intensity of colour indicates counts\n",
    "#      Note that both X and Y axis are first binned\n",
    "#      Ref: https://plotly.com/python-api-reference/generated/plotly.express.density_heatmap.html#plotly.express.density_heatmap\n",
    "\n",
    "px.density_heatmap(\n",
    "                   data_frame =ad,\n",
    "                   x = 'DailyTimeSpentonSite',\n",
    "                   y = 'AreaIncome'\n",
    "                   )"
   ]
  },
  {
   "cell_type": "code",
   "execution_count": null,
   "metadata": {},
   "outputs": [],
   "source": [
    "# 7.0  Heatmap. Intensity of colour indicates counts\n",
    "#      Note that both X and Y axis are first binned\n",
    "#      Ref: https://plotly.com/python-api-reference/generated/plotly.express.density_heatmap.html#plotly.express.density_heatmap\n",
    "\n",
    "px.density_heatmap(\n",
    "                   data_frame =ad,\n",
    "                   x = 'DailyTimeSpentonSite',\n",
    "                   y = 'AreaIncome',\n",
    "                   nbinsx = 20,             # Bins along X and Y axis\n",
    "                   nbinsy = 30\n",
    "                   )"
   ]
  },
  {
   "cell_type": "code",
   "execution_count": null,
   "metadata": {},
   "outputs": [],
   "source": [
    "# 7.0  Heatmap. Intensity of colour indicates average of z\n",
    "#      Ref: https://plotly.com/python-api-reference/generated/plotly.express.density_heatmap.html#plotly.express.density_heatmap\n",
    "#      Inbuilt color_continuous_scale: https://plotly.com/python/builtin-colorscales/\n",
    "\n",
    "px.density_heatmap(\n",
    "                   data_frame =ad,\n",
    "                   x = 'DailyTimeSpentonSite',\n",
    "                   y = 'AreaIncome',\n",
    "                   z = 'DailyInternetUsage',  # histfunc() of this is intensity of colour\n",
    "                   histfunc = 'avg',\n",
    "                   color_continuous_scale = 'icefire'  # Diverging color scale\n",
    "    \n",
    "                   )"
   ]
  },
  {
   "cell_type": "code",
   "execution_count": null,
   "metadata": {},
   "outputs": [],
   "source": [
    "# 8.0 Bar charts\n",
    "# 8.1\n",
    "df = pd.DataFrame({'name' : ['a', 'b', 'b'] * 20, 'value1' : [1.5, 2.5, 3.5] *20, 'yesno' : [0, 1, 1, 0] * 15 } )\n",
    "df.head()\n",
    "# 8.2\n",
    "hx = df.groupby('name')['value1'].sum()\n",
    "hx = hx.reset_index()\n",
    "hx"
   ]
  },
  {
   "cell_type": "code",
   "execution_count": null,
   "metadata": {},
   "outputs": [],
   "source": [
    "# 8.3 Simplest bar chart from grouped data\n",
    "px.bar(data_frame = hx,\n",
    "                x = 'name',\n",
    "                y = 'value1'\n",
    "      )\n",
    "# 8.4 Barchart from dataframe\n",
    "px.bar(data_frame = df,\n",
    "                x = 'name',\n",
    "                y = 'value1')\n",
    "\n",
    "# 8.5 Stacked bar chart (or sort of conditional bar chart).\n",
    "#     Note use of 'histogram'\n",
    "px.histogram(data_frame = df,\n",
    "                      x = 'name',\n",
    "                      y = 'value1',\n",
    "                  color = 'yesno',\n",
    "               histfunc = 'count'\n",
    "            )"
   ]
  },
  {
   "cell_type": "code",
   "execution_count": null,
   "metadata": {},
   "outputs": [],
   "source": [
    "##################### More To be done ####################\n",
    "# 9.0 Bar chart--Univariate\n",
    "#     https://plotly.com/python/bar-charts/\n",
    "#     Ref: https://plotly.com/python-api-reference/generated/plotly.express.bar.html\n",
    "px.bar(data_frame=ad,\n",
    "                x='age_cat',\n",
    "                y = 'DailyInternetUsage',\n",
    "                template='plotly_white'\n",
    "\n",
    "      )"
   ]
  },
  {
   "cell_type": "code",
   "execution_count": null,
   "metadata": {},
   "outputs": [],
   "source": [
    "# Stacked bar chart\n",
    "px.histogram(data_frame=ad\n",
    "             ,x=\"age_cat\"\n",
    "             ,y=\"area_income_cat\"\n",
    "             ,color=\"Clicked_on_ad\"\n",
    "             ,histfunc=\"count\"\n",
    "             ,labels={'age_cat':'Characters'}\n",
    "             ,template='plotly_white'\n",
    "            )"
   ]
  },
  {
   "cell_type": "code",
   "execution_count": null,
   "metadata": {},
   "outputs": [],
   "source": [
    "###########################################################"
   ]
  }
 ],
 "metadata": {
  "kernelspec": {
   "display_name": "Python [conda env:Anaconda3] *",
   "language": "python",
   "name": "conda-env-Anaconda3-py"
  },
  "language_info": {
   "codemirror_mode": {
    "name": "ipython",
    "version": 3
   },
   "file_extension": ".py",
   "mimetype": "text/x-python",
   "name": "python",
   "nbconvert_exporter": "python",
   "pygments_lexer": "ipython3",
   "version": "3.7.6"
  }
 },
 "nbformat": 4,
 "nbformat_minor": 4
}
