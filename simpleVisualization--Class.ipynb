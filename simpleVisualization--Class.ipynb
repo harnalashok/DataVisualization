{
 "cells": [
  {
   "cell_type": "code",
   "execution_count": null,
   "metadata": {},
   "outputs": [],
   "source": [
    "# Last amended: 19th March, 2021\n",
    "# Data source: Kaggle: https://www.kaggle.com/fayomi/advertising\n",
    "#\n",
    "# Spyder note: Use F9 in Spyder to execute a line and advance\n",
    "#\n",
    "# objectives:\n",
    "#           Discover relationships and existence of pattern\n",
    "#           in data\n",
    "#              i)  Feature Engineering for categorical variables\n",
    "#             ii)  Extracting datetime components\n",
    "#             iii) Behaviour of 'apply' vs 'map' for Series\n",
    "#              iv)  Learning to draw various types of graphs\n",
    "#               v)  Conditional plots using catplot\n",
    "#              vi)  Relationship plots using relplot\n",
    "#             vii)  Learning seaborn plots\n",
    "#            viii)  Looking at structure in data\n",
    "#                       a. Parallel coordinates plots\n",
    "#                       b. Radviz plots\n",
    "#                       c. Andrews curves\n",
    "# Good reference: https://seaborn.pydata.org/introduction.html\n"
   ]
  },
  {
   "cell_type": "code",
   "execution_count": null,
   "metadata": {},
   "outputs": [],
   "source": [
    "\n",
    "# 1.0 Call libraries\n",
    "#%reset -f\n",
    "# 1.1 For data manipulations\n",
    "import numpy as np\n",
    "import pandas as pd\n",
    "# 1.2 For plotting\n",
    "import matplotlib.pyplot as plt\n",
    "#import matplotlib\n",
    "#import matplotlib as mpl     # For creating colormaps\n",
    "import seaborn as sns\n",
    "# 1.3 For data processing\n",
    "from sklearn.preprocessing import StandardScaler\n",
    "# 1.4 OS related\n",
    "import os\n",
    "\n",
    "# 1.5\n",
    "#%matplotlib qt5\n",
    "%matplotlib inline\n"
   ]
  },
  {
   "cell_type": "code",
   "execution_count": null,
   "metadata": {},
   "outputs": [],
   "source": [
    "# 1.6 Display outputs of multiple commands from a cell\n",
    "from IPython.core.interactiveshell import InteractiveShell\n",
    "InteractiveShell.ast_node_interactivity = \"all\""
   ]
  },
  {
   "cell_type": "code",
   "execution_count": null,
   "metadata": {},
   "outputs": [],
   "source": [
    "# 1.7 Go to folder containing data file\n",
    "#os.chdir(\"D:\\\\data\\\\OneDrive\\\\Documents\\\\advertising\")\n",
    "#os.chdir(\"/home/ashok/datasets/advertising\")\n",
    "\n",
    "os.chdir(\"D:\\\\data\\\\OneDrive\\\\Documents\\\\advertising\")\n",
    "#os.chdir(\"C:\\\\Users\\\\Administrator\\\\OneDrive\\\\Documents\\\\advertising\")\n",
    "\n",
    "#os.listdir()            # List all files in the folder\n",
    "\n",
    "# 1.7 Read file and while reading file,\n",
    "#      convert 'Timestamp' to datetime time\n",
    "ad = pd.read_csv(\"advertising.zip\",\n",
    "                  parse_dates = ['Timestamp']    # especial for date parsing\n",
    "                  )\n",
    "\n",
    "#ad = pd.read_csv(\"ad_mod.csv\",\n",
    "#                  parse_dates = ['Timestamp']    # especial for date parsing\n",
    "#                  )"
   ]
  },
  {
   "cell_type": "code",
   "execution_count": null,
   "metadata": {},
   "outputs": [],
   "source": [
    "# 1.8 Check data types of attributes\n",
    "ad.dtypes"
   ]
  },
  {
   "cell_type": "code",
   "execution_count": null,
   "metadata": {},
   "outputs": [],
   "source": [
    "# 1.9 Distribution of data types\n",
    "ad.dtypes.value_counts()"
   ]
  },
  {
   "cell_type": "code",
   "execution_count": null,
   "metadata": {},
   "outputs": [],
   "source": [
    "# 1.10 Some more dataset related information\n",
    "pd.options.display.max_columns = 100\n",
    "pd.set_option(\"display.max.columns\" , 100)"
   ]
  },
  {
   "cell_type": "code",
   "execution_count": null,
   "metadata": {},
   "outputs": [],
   "source": [
    "# 1.11 A little data exploration\n",
    "ad.head(3)\n",
    "ad.info()               # Also informs how much memory dataset takes\n",
    "                        #   and status of nulls\n",
    "ad.shape                # (1000, 10)\n",
    "ad.columns.values\n",
    "len(ad)                 # Also give number of rows\n"
   ]
  },
  {
   "cell_type": "code",
   "execution_count": null,
   "metadata": {},
   "outputs": [],
   "source": [
    "## \n",
    "## Shortcut\n",
    "##\n",
    "################################\n",
    "# ALL data changes at one place\n",
    "###############################\n",
    "## AA\n",
    "new_col_names  = {\n",
    "                 'Daily Time Spent on Site' :  'DailyTimeSpentonSite',\n",
    "                 'Area Income'              :  'AreaIncome',\n",
    "                 'Daily Internet Usage'     :  'DailyInternetUsage',\n",
    "                 'Clicked on Ad'            :  'Clicked_on_ad',\n",
    "                 'Male'                     :  'Gender',\n",
    "                 'Ad Topic Line'            :  'AdTopicLine'\n",
    "                }\n",
    "##AB.\n",
    "ad.rename(\n",
    "         columns = new_col_names,\n",
    "         inplace = True,\n",
    "         #axis = 1             # Note the axis keyword. By default it is axis = 0\n",
    "         )\n",
    "\n",
    "\n",
    "\n",
    "## AC.\n",
    "ad[\"age_cat\"] = pd.cut(\n",
    "                       ad['Age'],\n",
    "                       bins = 3,           # Else devise your bins: [0,20,60,110]\n",
    "                       labels= [\"y\", \"m\", \"s\"]\n",
    "                      )\n",
    "\n",
    "\n",
    "\n",
    "## AD.\n",
    "ad[\"area_income_cat\"] = pd.cut(\n",
    "                               ad['AreaIncome'],\n",
    "                               bins = 3,\n",
    "                               labels= [\"l\", \"m\", \"h\"]\n",
    "                               )\n",
    "\n",
    "\n",
    "## AE\n",
    "ad['AdTopicLineLength'] = ad['AdTopicLine'].map(lambda x : len(x))  \n",
    "\n",
    "\n",
    "##  AF. \n",
    "fx = ad['AdTopicLine'].str.split(\" \").map(lambda x: x[0])\n",
    "vc = fx.value_counts()\n",
    "ad['ad_cat'] = fx\n",
    "ad['ad_cat'].map(vc)\n",
    "\n",
    "\n",
    "\n",
    "# AG. \n",
    "ad['hourOfDay']    = ad['Timestamp'].dt.hour\n",
    "ad['weekday']      = ad['Timestamp'].dt.weekday\n",
    "ad['month']        = ad['Timestamp'].dt.month # First we get month. Then we map month to quarter\n",
    "                                              #   See below\n",
    "\n",
    "\n",
    "# AH.\n",
    "l1 = [\"earlymorning\", \"morning\", \"afternoon\", \"evening\", \"night\",\"latenight\"]\n",
    "\n",
    "# AI\n",
    "ad[\"hourOfDay\"] = pd.cut(\n",
    "                     ad['hourOfDay'],\n",
    "                     bins = [-1,6,12,17,20,22,24],\n",
    "                     labels = l1\n",
    "                     )\n",
    "# AJ\n",
    "mymap = {\n",
    "           0 : 'Monday',\n",
    "           1 : 'Tuesday',\n",
    "           2: 'Wednesday',\n",
    "           3: 'Thursday',\n",
    "           4: 'Friday',\n",
    "           5: 'Saturday',\n",
    "           6: 'Sunday'\n",
    "         }\n",
    "\n",
    "\n",
    "# AK\n",
    "ad['weekday'] = ad['weekday'].map(mymap)\n",
    "\n",
    "# AL\n",
    "lq = [\"quarter1\", \"quarter2\", \"quarter3\", \"quarter4\"]\n",
    "\n",
    "\n",
    "# AM\n",
    "ad[\"quarter\"] = pd.cut(\n",
    "                     ad['month'],\n",
    "                     bins = [0,3,6,9,12],\n",
    "                     labels = lq\n",
    "                     )\n",
    "\n",
    "\n",
    "# AN\n",
    "ad.to_csv('ad_mod.csv', index=False)\n",
    "ad.head()"
   ]
  },
  {
   "cell_type": "code",
   "execution_count": null,
   "metadata": {},
   "outputs": [],
   "source": [
    "# 2.0 Rename few column names:\n",
    "new_col_names  = {\n",
    "                 'Daily Time Spent on Site' :  'DailyTimeSpentonSite',\n",
    "                 'Area Income'              :  'AreaIncome',\n",
    "                 'Daily Internet Usage'     :  'DailyInternetUsage',\n",
    "                 'Clicked on Ad'            :  'Clicked_on_ad',\n",
    "                 'Male'                     :  'Gender',\n",
    "                 'Ad Topic Line'            :  'AdTopicLine'\n",
    "                }\n",
    "# 2.1\n",
    "ad.rename(\n",
    "         columns = new_col_names,\n",
    "         inplace = True,\n",
    "         #axis = 1             # Note the axis keyword. By default it is axis = 0\n",
    "         )\n",
    "\n",
    "# 2.2\n",
    "ad.head(3)\n",
    "ad.columns.values\n",
    "\n",
    "# 2.3 Write to CSV\n",
    "ad.to_csv('ad_mod.csv', index=False)\n",
    "%pwd"
   ]
  },
  {
   "cell_type": "markdown",
   "metadata": {},
   "source": [
    "### Categorical data"
   ]
  },
  {
   "cell_type": "markdown",
   "metadata": {},
   "source": [
    "#### Examine Categorical data"
   ]
  },
  {
   "cell_type": "code",
   "execution_count": null,
   "metadata": {},
   "outputs": [],
   "source": [
    "# 3.0 Categorical data value counts\n",
    "#     Or number of levels per category\n",
    "\n",
    "len(ad.City.unique())                   # 969 cities out of 1000\n",
    "ad.City.value_counts()\n",
    "#ad.City.unique()"
   ]
  },
  {
   "cell_type": "code",
   "execution_count": null,
   "metadata": {},
   "outputs": [],
   "source": [
    "# 3.1 How many conutries\n",
    "len(ad.Country.unique())                # 237 countries\n",
    "ad.Country.value_counts()               # Mostly 2 per countryt"
   ]
  },
  {
   "cell_type": "markdown",
   "metadata": {},
   "source": [
    "Seaborn Countplot  \n",
    "Show the counts of observations in each categorical bin using bars.  \n",
    "\n",
    "> `seaborn.countplot(*, x=None, y=None, hue=None, data=None, order=None, hue_order=None, orient=None, color=None, palette=None, saturation=0.75, dodge=True, ax=None, **kwargs)`"
   ]
  },
  {
   "cell_type": "code",
   "execution_count": null,
   "metadata": {},
   "outputs": [],
   "source": [
    "# 3.2 Distribution of gender\n",
    "ad['Gender'].value_counts()                  # 519:481\n",
    "                                             # 1 : Female\n",
    "                                             # 0 : Male \n"
   ]
  },
  {
   "cell_type": "code",
   "execution_count": null,
   "metadata": {},
   "outputs": [],
   "source": [
    "# 3.2 Distribution of gender, graphically:\n",
    "\n",
    "_= sns.countplot(x = 'Gender', data = ad)"
   ]
  },
  {
   "cell_type": "code",
   "execution_count": null,
   "metadata": {},
   "outputs": [],
   "source": [
    "# 3.3 Distribution of clicks:\n",
    "\n",
    "ad['Clicked_on_ad'].value_counts()      # 1 and 0 in the ratio of 500:500\n",
    "                                        # This is highly optimistic. Genrally clicks may be 1%\n"
   ]
  },
  {
   "cell_type": "code",
   "execution_count": null,
   "metadata": {},
   "outputs": [],
   "source": [
    "# 3.3 Distribution of clicks, graphically:\n",
    "\n",
    "_= sns.countplot(x = 'Clicked_on_ad', data = ad)"
   ]
  },
  {
   "cell_type": "code",
   "execution_count": null,
   "metadata": {},
   "outputs": [],
   "source": [
    "# 3.4 Distribution of clicks, Gender-wise:\n",
    "\n",
    "#     Among those who clicked on ad, \n",
    "#      males are a little more than females\n",
    "#       But difference in clicking habits does not appear\n",
    "#        to be significant\n",
    "#\n",
    "#     Use: age_cat and then compare this plot with the next one   \n",
    "\n",
    "_= sns.countplot(\n",
    "                  x = 'Clicked_on_ad',   # Countplot\n",
    "                  hue = 'Gender',       # subset by 'Gender'\n",
    "                  data = ad\n",
    "                 )"
   ]
  },
  {
   "cell_type": "code",
   "execution_count": null,
   "metadata": {},
   "outputs": [],
   "source": [
    "# 3.4.1 Another way to draw bar-plot\n",
    "#       But which one is more informative?\n",
    "#       Earlier one or this one?\n",
    "\n",
    "_=sns.barplot(\n",
    "              x = 'Clicked_on_ad',   # Countplot\n",
    "              y = 'Age',        # subset by 'Gender'\n",
    "              data = ad\n",
    "             )"
   ]
  },
  {
   "cell_type": "markdown",
   "metadata": {},
   "source": [
    "#### Cat feature Engineering"
   ]
  },
  {
   "cell_type": "code",
   "execution_count": null,
   "metadata": {},
   "outputs": [],
   "source": [
    "# 4.1 Descretise continuos columns\n",
    "#     These are equal width bins as against\n",
    "#     equal data-points bins (quantile) or kmeans clusters\n",
    "#     Alternatively use KBinsDiscretizer of sklearn\n",
    "\n",
    "ad[\"age_cat\"] = pd.cut(\n",
    "                       ad['Age'],\n",
    "                       bins = 3,           # Else devise your bins: [0,20,60,110]\n",
    "                       labels= [\"y\", \"m\", \"s\"]\n",
    "                      )\n",
    "\n",
    "# 4.1.1\n",
    "ad.head(2)\n"
   ]
  },
  {
   "cell_type": "code",
   "execution_count": null,
   "metadata": {},
   "outputs": [],
   "source": [
    "# 4.2 Bin AreaIncome\n",
    "ad[\"area_income_cat\"] = pd.cut(\n",
    "                               ad['AreaIncome'],\n",
    "                               bins = 3,\n",
    "                               labels= [\"l\", \"m\", \"h\"]\n",
    "                               )\n",
    "# 4.2.1\n",
    "ad.head(2)"
   ]
  },
  {
   "cell_type": "code",
   "execution_count": null,
   "metadata": {},
   "outputs": [],
   "source": [
    "# 4.3 Create a new column as per length of each ad-line\n",
    "#     Both the following lines do the same thing\n",
    "\n",
    "ad['AdTopicLineLength'] = ad['AdTopicLine'].apply(lambda x : len(x)) \n",
    "ad['AdTopicLineLength'] = ad['AdTopicLine'].map(lambda x : len(x))  \n",
    "\n",
    "# 4.3.1\n",
    "ad.head(2)"
   ]
  },
  {
   "cell_type": "code",
   "execution_count": null,
   "metadata": {},
   "outputs": [],
   "source": [
    "# 4.3.2 Save your work:\n",
    "ad.to_csv('ad_mod.csv', index=False)\n",
    "%pwd"
   ]
  },
  {
   "cell_type": "code",
   "execution_count": null,
   "metadata": {},
   "outputs": [],
   "source": [
    "#4.4 Distribution of clicks, Age wise and area income wise\n",
    "_=sns.catplot(\n",
    "               x = 'Clicked_on_ad',\n",
    "               hue = 'area_income_cat',\n",
    "               col = 'age_cat',\n",
    "               kind = 'count',\n",
    "               data = ad\n",
    "             )"
   ]
  },
  {
   "cell_type": "code",
   "execution_count": null,
   "metadata": {},
   "outputs": [],
   "source": [
    "## Which ad category? And how many times it occurs?\n",
    "## INCLUDE THIS IDEA\n",
    "fx = ad['AdTopicLine'].str.split(\" \").map(lambda x: x[0])\n",
    "vc = fx.value_counts()\n",
    "vc[:4]\n",
    "ad['ad_cat'] = fx\n",
    "ad['ad_cat'].map(vc)"
   ]
  },
  {
   "cell_type": "code",
   "execution_count": null,
   "metadata": {},
   "outputs": [],
   "source": [
    "# 5.0 Extract date components using Series.dt accessor\n",
    "#     https://pandas.pydata.org/pandas-docs/stable/reference/series.html#api-series-dt\n",
    "#     https://pandas.pydata.org/pandas-docs/stable/reference/series.html#datetime-properties\n",
    "\n",
    "# 5.1 What is the type of 'dt'\n",
    "type(ad['Timestamp'].dt)    # Accessor like get()\n",
    "                            # pandas.core.indexes.accessors.DatetimeProperties\n",
    "\n",
    "# 5.2 Extract hour, weekday and month\n",
    "ad['hourOfDay']    = ad['Timestamp'].dt.hour\n",
    "ad['weekday']      = ad['Timestamp'].dt.weekday\n",
    "ad['month']        = ad['Timestamp'].dt.month # First we get month. Then we map month to quarter\n",
    "                                              #   See below\n",
    "\n",
    "# 5.2.1\n",
    "ad.head(2)"
   ]
  },
  {
   "cell_type": "code",
   "execution_count": null,
   "metadata": {},
   "outputs": [],
   "source": [
    "# 5.3 Cut hour to morning, evening, night etc\n",
    "#     For example 0 to 6am is earlymorning\n",
    "\n",
    "# 5.3.1 For easy interpretation of graphs, use l1\n",
    "l1 = [\"earlymorning\", \"morning\", \"afternoon\", \"evening\", \"night\",\"latenight\"]\n",
    "\n",
    "\n",
    "# 5.3.2\n",
    "ad[\"hourOfDay\"] = pd.cut(\n",
    "                     ad['hourOfDay'],\n",
    "                     bins = [-1,6,12,17,20,22,24],\n",
    "                     labels = l1\n",
    "                     )\n",
    "\n",
    "# 5.3.3\n",
    "ad.head(2)\n",
    "\n",
    "# 5.3.4\n",
    "ad.to_csv('ad_mod.csv', index=False)\n",
    "%pwd"
   ]
  },
  {
   "cell_type": "code",
   "execution_count": null,
   "metadata": {},
   "outputs": [],
   "source": [
    "\n",
    "# 5.4 Similarly for weekdays\n",
    "#     Map weekday numbers to weekday names\n",
    "#     We use Series.map() method\n",
    "\n",
    "mymap = {\n",
    "           0 : 'Monday',\n",
    "           1 : 'Tuesday',\n",
    "           2: 'Wednesday',\n",
    "           3: 'Thursday',\n",
    "           4: 'Friday',\n",
    "           5: 'Saturday',\n",
    "           6: 'Sunday'\n",
    "         }\n",
    "\n",
    "\n",
    "# 5.4.1 For easy interpretation of weekdays in graphs\n",
    "ad['weekday'] = ad['weekday'].map(mymap)\n",
    "\n",
    "# 5.4.2\n",
    "ad.head(2)\n",
    "\n",
    "# 5.4.3\n",
    "ad.to_csv('ad_mod.csv', index=False)\n",
    "%pwd"
   ]
  },
  {
   "cell_type": "code",
   "execution_count": null,
   "metadata": {},
   "outputs": [],
   "source": [
    "# 5.5 Divide months into qurters\n",
    "\n",
    "# 5.5.1 For easy interpretation of graphs, use l1\n",
    "lq = [\"quarter1\", \"quarter2\", \"quarter3\", \"quarter4\"]\n",
    "\n",
    "\n",
    "# 5.5.2\n",
    "ad[\"quarter\"] = pd.cut(\n",
    "                     ad['month'],\n",
    "                     bins = [0,3,6,9,12],\n",
    "                     labels = lq\n",
    "                     )\n",
    "\n",
    "# 5.5.3\n",
    "ad[['month', 'quarter']].head(3)\n",
    "\n",
    "# 5.5.4\n",
    "ad.to_csv('ad_mod.csv', index=False)\n",
    "%pwd"
   ]
  },
  {
   "cell_type": "code",
   "execution_count": null,
   "metadata": {},
   "outputs": [],
   "source": [
    "# 5.6 So finally what are col names?\n",
    "ad.columns.values\n",
    "ad.shape               # (1000, 18)  Earlier shape was (1000, 10)"
   ]
  },
  {
   "cell_type": "code",
   "execution_count": null,
   "metadata": {},
   "outputs": [],
   "source": [
    "##################\n",
    "# 6 Plotting\n",
    "##################\n",
    "# A summary of syntax of important plots\n",
    "#---------------------------------------\n",
    "# 1. sns.displot()\n",
    "#    (note: sns.distplot() is depreciated)\n",
    "# https://seaborn.pydata.org/generated/seaborn.distplot.html\n",
    "# displot(data=None, *, x=None, y=None, hue=None, row=None,\n",
    "#         col=None, weights=None, kind='hist', rug=False,\n",
    "#         rug_kws=None, log_scale=None, legend=True, palette=None,\n",
    "#         hue_order=None, hue_norm=None, color=None, col_wrap=None,\n",
    "#         row_order=None, col_order=None, height=5, aspect=1, facet_kws=None,\n",
    "#         **kwargs)\n",
    "#         kind: 'hist', 'kde', 'ecdf'\n",
    "###$$$$\n",
    "# Note: 'displot' DOSES not take 'ax' argument. So if you need to use, 'ax'\n",
    "#       argument, use: histplot, kdeplot, ecdfplot\n",
    "###$$$$\n",
    "\n",
    "# 2. sns.jointplot()\n",
    "# http://seaborn.pydata.org/generated/seaborn.jointplot.html\n",
    "# jointplot(x, y, data=None, kind='scatter',\n",
    "#          stat_func=None, color=None, height=6, ratio=5, space=0.2,\n",
    "#          dropna=True, xlim=None, ylim=None, joint_kws=None, marginal_kws=None,\n",
    "#          annot_kws=None, **kwargs)\n",
    "#         kind: { “scatter” | “kde” | “hist” | “hex” | “reg” | “resid” }\n",
    "#\n",
    "###$$$$\n",
    "# Note: 'jointplot' DOSES not take 'ax' argument. So if you need to use, 'ax' argument\n",
    "#       use: scatterplot, kdelot, histplot, regplot, residplot\n",
    "###$$$$\n",
    "#\n",
    "# 3. sns.replplot()\n",
    "# https://seaborn.pydata.org/generated/seaborn.relplot.html\n",
    "# relplot(x=None, y=None, hue=None, size=None, style=None, data=None, row=None,\n",
    "#        col=None, col_wrap=None, row_order=None, col_order=None, palette=None,\n",
    "#        hue_order=None, hue_norm=None, sizes=None, size_order=None, size_norm=None,\n",
    "#        markers=None, dashes=None, style_order=None, legend='brief', kind='scatter',\n",
    "#        height=5, aspect=1, facet_kws=None, **kwargs)\n",
    "#        kind: 'scatter' or 'line'\n",
    "#\n",
    "# 4. sns.catplot()\n",
    "# https://seaborn.pydata.org/generated/seaborn.catplot.html\n",
    "# catplot(*, x=None, y=None, hue=None, data=None, row=None,col=None, col_wrap=None,\n",
    "#         estimator=<function mean at 0x7fecadf1cee0>, height=5, aspect=1, orient=None,\n",
    "#         ci=95, n_boot=1000, units=None, seed=None, order=None, hue_order=None,\n",
    "#         row_order=None, col_order=None, kind='strip',sharex=True, sharey=True,\n",
    "#         color=None, palette=None, legend=True, legend_out=True,\n",
    "#         margin_titles=False, facet_kws=None, **kwargs )\n",
    "#         kind:  “strip”, “swarm”, “box”, “violin”, “boxen”, “point”, “bar”, or “count”\n",
    "#\n",
    "###$$$$\n",
    "# Note: 'catplot' DOSES not take 'ax' argument. So if you need to use, 'ax' argument\n",
    "#       use: stripplot, swarmplot, boxplot, violinplot,boxenplot,barplot, countplot\n",
    "###$$$$\n",
    "#\n",
    "# 5. sns.barplot()\n",
    "#    https://seaborn.pydata.org/generated/seaborn.barplot.html\n",
    "# barplot(*, x=None, y=None, hue=None, data=None, order=None, hue_order=None,\n",
    "#         estimator=<function mean at 0x7fecadf1cee0>, ci=95, n_boot=1000,\n",
    "#         units=None, seed=None, orient=None, color=None, palette=None,\n",
    "#         saturation=0.75, errcolor='.26', errwidth=None, capsize=None,\n",
    "#         dodge=True, ax=None, **kwargs)\n",
    "#\n",
    "###$$$$\n",
    "# Note: For plotting counts of a single cat feature, use 'countplot'\n",
    "#       For summarising another continuous function, against cat-feature\n",
    "#       use barplot with estimator of np.sum, np.mean etc\n",
    "###$$$$\n",
    "#\n"
   ]
  },
  {
   "cell_type": "code",
   "execution_count": null,
   "metadata": {},
   "outputs": [],
   "source": [
    "####################################\n",
    "## Plotting questions that we will answer\n",
    "####################################\n",
    "#\n",
    "## 1 Understand your numeric data\n",
    "##   How is it distributed.\n",
    "\n",
    "# Question 1: How is Age distributed?\n",
    "# Question 2: How is DailyTimeSpentonSite distributed?\n",
    "# Question 3: How is AreaIncome distributed?\n",
    "# Question 4: Use for loop to draw the distribution plots for the following\n",
    "#             columns = ['Age', 'AreaIncome', 'DailyInternetUsage', 'DailyTimeSpentonSite']\n",
    "\n",
    "# 2.0 Relationship of numeric variable with a categorical variable\n",
    "\n",
    "# Question 5: How is 'Age' related to clicking?\n",
    "# Question 6: How is DailyInternetUsage related to clicking?\n",
    "# Question 7: How is 'AreaIncome' related to clicking?\n",
    "# Question 8: Draw all the following relationship plots at one go:\n",
    "#               columns = ['Age', 'AreaIncome', 'DailyInternetUsage', 'DailyTimeSpentonSite']\n",
    "#               catVar = ['Clicked_on_ad', 'age_cat' ]\n",
    "\n",
    "# 3.0 Relationship of numeric to numeric variables\n",
    "#     Using jointplots:\n",
    "\n",
    "# Question 9:  Show joint distribution of DailyTimeSpentonSite and AreaIncome\n",
    "# Question 10: Show joint distribution of DailyInternetUsage and DailyTimeSpentonSite\n",
    "# Question 11: Show these plots as kernel density as also 'hex' as also\n",
    "#              draw regression line\n",
    "\n",
    "# 4.0 Relationship of a categorical to another categorical variable\n",
    "\n",
    "# Question 12: What relationship exist between 'Clicked_on_ad' and 'Gender'?\n",
    "# Question 13: What relationship exist between 'DailyTimeSpentonSite' and 'Gender'?\n",
    "# Question 14: Relationship between Gender and Clicked_on_ad, subset by 'age_cat wise\n",
    "\n",
    "# 5.0 Relationship between two categorical and one numeric variable\n",
    "\n",
    "# Question 15: Hour and weekday wise when are clicks most\n",
    "# Question 16: Quarter wise and weekday wise when are clicks most\n",
    "# Question 17: Quarter wise and weekday wise when are DailyInternetUsage max and min\n",
    "\n",
    "# 6.0 Structure in data\n",
    "# Question 18: Does data exhibit any pattern with respect to 'Clicked_on_ad'\n",
    "#              Explore how good the patterns are. Stronger patterns will lead\n",
    "#              to better classifications\n",
    "#\n"
   ]
  },
  {
   "cell_type": "code",
   "execution_count": null,
   "metadata": {},
   "outputs": [],
   "source": [
    "###### Start answering questions"
   ]
  },
  {
   "cell_type": "code",
   "execution_count": null,
   "metadata": {},
   "outputs": [],
   "source": [
    "# 7.0.1 Sample data:\n",
    "#       This step is academic here. But for large datasets,\n",
    "#       there is a need to sample data before plotting so\n",
    "#       that they do not crowd limited X-Y space\n",
    "\n",
    "dn = ad.sample(frac = 0.5)    # Extract 50% sample of data\n",
    "dn.shape      # (500,20)"
   ]
  },
  {
   "cell_type": "code",
   "execution_count": null,
   "metadata": {},
   "outputs": [],
   "source": [
    "## Task 1 Understand your numeric data\n",
    "##         How is it distributed.\n",
    "\n",
    "# Question 1: How is Age distributed?\n",
    "# Question 2: How is DailyTimeSpentonSite distributed\n",
    "# Question 3: How is AreaIncome distributed"
   ]
  },
  {
   "cell_type": "code",
   "execution_count": null,
   "metadata": {
    "scrolled": true
   },
   "outputs": [],
   "source": [
    "# 7.1 Age is slight skewed to right. Naturally density of younger\n",
    "#       persons is high. \n",
    "#    Try: kind = 'kde', col = 'Gender', kde = True\n",
    "\n",
    "_ = sns.displot( x = 'Age', data = ad )"
   ]
  },
  {
   "cell_type": "code",
   "execution_count": null,
   "metadata": {},
   "outputs": [],
   "source": [
    "# 7.1.1 Add more plot configurations\n",
    "# Refer: https://matplotlib.org/api/axes_api.html#matplotlib-axes\n",
    "ax= sns.displot( x = 'Age', data = ad)\n",
    "\n",
    "# 7.1.2\n",
    "_= ax.set( xlim =(10,80),                     #  sns.distplot does not have **kwargs\n",
    "        xlabel= \"age of persons\",\n",
    "        ylabel = \"counts\",\n",
    "        title= \"Histogram of Age\",\n",
    "        xticks = list(range(0,80,5))\n",
    "        )\n"
   ]
  },
  {
   "cell_type": "code",
   "execution_count": null,
   "metadata": {},
   "outputs": [],
   "source": [
    "# 7.1.3 Relationship of Age vs AreaIncome\n",
    "#       Also try: , kind = 'kde'\n",
    "\n",
    "_= sns.displot(\n",
    "               data = ad,\n",
    "               x = 'Age',          # Continuous feature\n",
    "               y = 'AreaIncome',    # Continuous feature\n",
    "               kind = 'hist'\n",
    "              )"
   ]
  },
  {
   "cell_type": "code",
   "execution_count": null,
   "metadata": {},
   "outputs": [],
   "source": [
    "# 7.1.4 How are clicks distributed as per Age\n",
    "\n",
    "_= sns.displot(\n",
    "                x= 'Age',\n",
    "                hue = 'Clicked_on_ad',\n",
    "                kind = 'kde',\n",
    "                data = ad\n",
    "               )"
   ]
  },
  {
   "cell_type": "code",
   "execution_count": null,
   "metadata": {},
   "outputs": [],
   "source": [
    "# 7.1.5 Distribution of DailyTimeSpentonSite\n",
    "#sns.displot(ad.DailyTimeSpentonSite)\n",
    "#sns.displot(ad.AreaIncome)\n",
    "#sns.displot(ad.DailyInternetUsage)"
   ]
  },
  {
   "cell_type": "code",
   "execution_count": null,
   "metadata": {},
   "outputs": [],
   "source": [
    "# 7.2 Using for loop to plot all at once\n",
    "columns = ['Age', 'AreaIncome', 'DailyInternetUsage', 'DailyTimeSpentonSite']\n",
    "\n",
    "# 7.2.1\n",
    "fig,ax = plt.subplots(2,2, figsize = (10,5))\n",
    "\n",
    "# 7.2.2\n",
    "ax = ax.flatten()\n",
    "\n",
    "# 7.2.3\n",
    "for i in range(len(columns)):\n",
    "    _ = sns.histplot(ad[columns[i]],ax = ax[i], kde = True)\n"
   ]
  },
  {
   "cell_type": "code",
   "execution_count": null,
   "metadata": {},
   "outputs": [],
   "source": [
    "# 8.0 Relationship of numeric variable with a categorical variable\n",
    "# Question 4: How is 'Age' related to clicking?\n",
    "# Question 5: How is DailyInternetUsage related to clicking?\n",
    "# Question 6: How is 'AreaIncome' related to clicking?"
   ]
  },
  {
   "cell_type": "code",
   "execution_count": null,
   "metadata": {},
   "outputs": [],
   "source": [
    "# 8.1 One demo plot of relationship of 'Age' with 'Clicked_on_ad'\n",
    "#     https://seaborn.pydata.org/generated/seaborn.boxplot.html#seaborn.boxplot\n",
    "\n",
    "_=sns.boxplot(x = 'Clicked_on_ad',       # Discrete\n",
    "              y = 'Age',                   # Continuous\n",
    "              data = ad\n",
    "              )"
   ]
  },
  {
   "cell_type": "code",
   "execution_count": null,
   "metadata": {
    "scrolled": true
   },
   "outputs": [],
   "source": [
    "# 8.2 'DailyInternetUsage'  vs clicking\n",
    "#     Try: notch = True : 95% chance median may vary \n",
    "#                         from one end of notch to another  end of notch<===\n",
    "\n",
    "_=sns.boxplot(x = 'Gender',         # Discrete\n",
    "              y = 'DailyInternetUsage',    # Continuous\n",
    "              data = ad\n",
    "              )"
   ]
  },
  {
   "cell_type": "code",
   "execution_count": null,
   "metadata": {},
   "outputs": [],
   "source": [
    "# 9.0 Relationship of numeric to numeric variables\n",
    "#     Using jointplots:\n",
    "#           While jointplots may not show any linear relationship,\n",
    "#           they can show by use of contour plots, given X, probable\n",
    "#           Y through high density areas."
   ]
  },
  {
   "cell_type": "code",
   "execution_count": null,
   "metadata": {},
   "outputs": [],
   "source": [
    "# Question 7: Show joint distribution of DailyTimeSpentonSite and AreaIncome\n",
    "# Question 8: Show joint distribution of DailyInternetUsage and DailyTimeSpentonSite\n",
    "# Question 9: Show these plots as kernel density as also 'hex' as also\n",
    "#             draw regression line\n",
    "#\n",
    "# A jointplot = Scatterplot + Density plots"
   ]
  },
  {
   "cell_type": "code",
   "execution_count": null,
   "metadata": {},
   "outputs": [],
   "source": [
    "# 9.1 Open first the following\n",
    "_ = sns.jointplot(\n",
    "                   x = 'DailyTimeSpentonSite',\n",
    "                   y=  'AreaIncome',\n",
    "                   data = ad\n",
    "                  )"
   ]
  },
  {
   "cell_type": "code",
   "execution_count": null,
   "metadata": {},
   "outputs": [],
   "source": [
    "# 9.2  Clearly two clusters are evident here\n",
    "\n",
    "_= sns.jointplot(\n",
    "                 data = ad,\n",
    "                 x = 'DailyInternetUsage',\n",
    "                 y = 'DailyTimeSpentonSite',\n",
    "                 kind = \"kde\"\n",
    "                )\n"
   ]
  },
  {
   "cell_type": "code",
   "execution_count": null,
   "metadata": {},
   "outputs": [],
   "source": [
    "# 9.3 Or plot hex plot\n",
    "_= sns.jointplot(\n",
    "                 data = ad,\n",
    "                 x = 'DailyInternetUsage',\n",
    "                 y = 'DailyTimeSpentonSite',\n",
    "                 kind = \"hex\"\n",
    "                )"
   ]
  },
  {
   "cell_type": "code",
   "execution_count": null,
   "metadata": {},
   "outputs": [],
   "source": [
    "# 10.0 Relationship between two categorical and one numeric variable\n",
    "#     Numeric variable has to be some summary measure. So, we have\n",
    "#     to first calculate this summary measure\n",
    "#\n",
    "#     Matrix plots or heatmap\n",
    "#    #########################\n",
    "\n",
    "# Question 13: Hour and weekday wise when are clicks most\n",
    "# Question 14: Quarter wise and weekday wise when are clicks most\n",
    "# Question 15: Quarter wise and weekday wise when are DailyInternetUsage max and min"
   ]
  },
  {
   "cell_type": "code",
   "execution_count": null,
   "metadata": {},
   "outputs": [],
   "source": [
    "# 10.1 When are total clicks more\n",
    "#      Heatmap of hour vs weekday\n",
    "#      X and Y labels are DataFrame indexes\n",
    "\n",
    "# THIS HEAT MAP NEEDS CORRECTION. INCLUDE CLICKS SUM ALSO\n",
    "# PRESENTLY IT DOES NOT. MODIFY CROSSTAB() TO INCLUDE IT\n",
    "\n",
    "df_wh = pd.crosstab(ad['hourOfDay'], ad['weekday'])\n",
    "df_wh"
   ]
  },
  {
   "cell_type": "code",
   "execution_count": null,
   "metadata": {},
   "outputs": [],
   "source": [
    "# 10.2 Draw quickly the heatmap. For drawing heatmap,\n",
    "#     When Pandas DataFrame is provided, the index & column\n",
    "#     of DataFrame will be used to label the columns and rows\n",
    "#      of heatmap.\n",
    "#\n",
    "_= sns.heatmap(df_wh)"
   ]
  },
  {
   "cell_type": "code",
   "execution_count": null,
   "metadata": {},
   "outputs": [],
   "source": [
    "# 10.2.1 For list of ready-made cmaps (plt.cm...), see:\n",
    "#        https://matplotlib.org/tutorials/colors/colormaps.html\n",
    "_=sns.heatmap(df_wh, cmap = plt.cm.OrRd)\n",
    "#_=sns.heatmap(df_wh, cmap = plt.cm.GnBu)"
   ]
  },
  {
   "cell_type": "code",
   "execution_count": null,
   "metadata": {},
   "outputs": [],
   "source": [
    "############# I am done ###############"
   ]
  },
  {
   "cell_type": "markdown",
   "metadata": {},
   "source": [
    "### Structure in data"
   ]
  },
  {
   "cell_type": "code",
   "execution_count": null,
   "metadata": {},
   "outputs": [],
   "source": [
    "########################\n",
    "# Discover Structure in data\n",
    "# Question: 8 Does data have any pattern to predict 'Clicked_on_ad'\n",
    "########################\n",
    "\n",
    "# 11.0 Select only numeric columns for the purpose\n",
    "num_columns = ad.select_dtypes(include = ['float64', 'int64']).copy()\n",
    "num_columns.head()\n",
    "num_columns.shape       # (1000, 8)\n"
   ]
  },
  {
   "cell_type": "code",
   "execution_count": null,
   "metadata": {},
   "outputs": [],
   "source": [
    "# 11.1 To this dataframe, add one more column of 'Clicked_on_ad'\n",
    "#ad['Clicked_on_ad'] = ad['Clicked_on_ad'].astype('int8')\n",
    "#num_columns['Clicked_on_ad'] = ad.loc[: , 'Clicked_on_ad']\n",
    "\n",
    "# 11.1 Normalize  data\n",
    "cols = ['DailyTimeSpentonSite', 'Age','AreaIncome', 'DailyInternetUsage', 'Gender', 'AdTopicLineLength', 'month' ]\n",
    "\n",
    "# 11.2\n",
    "nc = ad[cols].copy()\n",
    "nc=(nc-nc.mean())/nc.std()\n",
    "nc.head(3)"
   ]
  },
  {
   "cell_type": "code",
   "execution_count": null,
   "metadata": {},
   "outputs": [],
   "source": [
    "# 11.3 To this dataframe, add one more column of 'Clicked_on_ad'\n",
    "nc['Clicked_on_ad'] = ad['Clicked_on_ad']\n"
   ]
  },
  {
   "cell_type": "code",
   "execution_count": null,
   "metadata": {},
   "outputs": [],
   "source": [
    "# 11.4\n",
    "_= pd.plotting.parallel_coordinates(\n",
    "                                     nc,\n",
    "                                     'Clicked_on_ad',\n",
    "                                     colormap='winter'\n",
    "                                    )\n"
   ]
  },
  {
   "cell_type": "code",
   "execution_count": null,
   "metadata": {},
   "outputs": [],
   "source": [
    "# 11.5 Next plot radviz, parallel_coordinates and andrews_curves\n",
    "_ = pd.plotting.radviz(\n",
    "                        nc,\n",
    "                        class_column ='Clicked_on_ad',\n",
    "                        colormap= 'winter'\n",
    "                      )\n",
    "\n"
   ]
  },
  {
   "cell_type": "code",
   "execution_count": null,
   "metadata": {},
   "outputs": [],
   "source": [
    "# 11.6\n",
    "_=pd.plotting.andrews_curves(\n",
    "                             nc,\n",
    "                             'Clicked_on_ad',\n",
    "                             colormap = 'winter'\n",
    "                            )"
   ]
  },
  {
   "cell_type": "code",
   "execution_count": null,
   "metadata": {},
   "outputs": [],
   "source": [
    "# 11.7 What if Data is random\n",
    "rand = pd.DataFrame(\n",
    "                     np.random.randn(1000,7),\n",
    "                     columns = cols    # Assign column names, just like that\n",
    "                    )\n",
    "\n",
    "# 6.3.1 Add this columns also\n",
    "rand['Clicked_on_ad'] = ad['Clicked_on_ad']\n"
   ]
  },
  {
   "cell_type": "code",
   "execution_count": null,
   "metadata": {},
   "outputs": [],
   "source": [
    "# 11.8 Now start plotting\n",
    "_= pd.plotting.parallel_coordinates(\n",
    "                                     rand,\n",
    "                                     'Clicked_on_ad',\n",
    "                                     colormap='winter'\n",
    "                                    )\n"
   ]
  },
  {
   "cell_type": "code",
   "execution_count": null,
   "metadata": {},
   "outputs": [],
   "source": [
    "11.9\n",
    "_=pd.plotting.andrews_curves(\n",
    "                             rand,\n",
    "                             'Clicked_on_ad',\n",
    "                             colormap = 'winter'\n",
    "                             )"
   ]
  },
  {
   "cell_type": "code",
   "execution_count": null,
   "metadata": {},
   "outputs": [],
   "source": [
    "##################### End of structured plots ################"
   ]
  },
  {
   "cell_type": "code",
   "execution_count": null,
   "metadata": {},
   "outputs": [],
   "source": [
    "# 11.0 Faceted plots: Show facets of relationships between\n",
    "#      by numerous categorical variables\n",
    "#      Facet plots\n",
    "#      READ 'catplot' AS CONDITIONAL PLOTS\n"
   ]
  },
  {
   "cell_type": "code",
   "execution_count": null,
   "metadata": {},
   "outputs": [],
   "source": [
    "# 11.1\n",
    "_=sns.catplot(x = 'Gender',\n",
    "              y = 'DailyInternetUsage',\n",
    "              row = 'age_cat' ,\n",
    "              col = 'area_income_cat',\n",
    "              kind = 'box',\n",
    "              estimator = np.sum,\n",
    "              data = ad\n",
    "             )"
   ]
  },
  {
   "cell_type": "code",
   "execution_count": null,
   "metadata": {},
   "outputs": [],
   "source": [
    "# 11.2 Faceted scatter plots or relationship plots\n",
    "_= sns.relplot(\n",
    "                x = 'Age',\n",
    "                y = 'DailyInternetUsage',\n",
    "                row = 'area_income_cat',\n",
    "                col = 'weekday',\n",
    "                kind = 'scatter',\n",
    "                data = ad\n",
    ")\n"
   ]
  },
  {
   "cell_type": "code",
   "execution_count": null,
   "metadata": {},
   "outputs": [],
   "source": [
    "# 11.3\n",
    "sns.relplot(x = 'Age',\n",
    "            y = 'DailyInternetUsage',\n",
    "            hue = 'area_income_cat',\n",
    "            kind = 'scatter',\n",
    "            data = ad,\n",
    "            cmap = 'winter')"
   ]
  },
  {
   "cell_type": "code",
   "execution_count": null,
   "metadata": {},
   "outputs": [],
   "source": [
    "#############"
   ]
  }
 ],
 "metadata": {
  "kernelspec": {
   "display_name": "Python 3",
   "language": "python",
   "name": "python3"
  },
  "language_info": {
   "codemirror_mode": {
    "name": "ipython",
    "version": 3
   },
   "file_extension": ".py",
   "mimetype": "text/x-python",
   "name": "python",
   "nbconvert_exporter": "python",
   "pygments_lexer": "ipython3",
   "version": "3.8.5"
  }
 },
 "nbformat": 4,
 "nbformat_minor": 4
}
